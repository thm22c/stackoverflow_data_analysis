{
 "cells": [
  {
   "cell_type": "code",
   "execution_count": 1,
   "metadata": {},
   "outputs": [
    {
     "data": {
      "text/html": [
       "<script>requirejs.config({paths: { 'plotly': ['https://cdn.plot.ly/plotly-latest.min']},});if(!window.Plotly) {{require(['plotly'],function(plotly) {window.Plotly=plotly;});}}</script>"
      ],
      "text/vnd.plotly.v1+html": [
       "<script>requirejs.config({paths: { 'plotly': ['https://cdn.plot.ly/plotly-latest.min']},});if(!window.Plotly) {{require(['plotly'],function(plotly) {window.Plotly=plotly;});}}</script>"
      ]
     },
     "metadata": {},
     "output_type": "display_data"
    }
   ],
   "source": [
    "import pandas as pd\n",
    "import plotly\n",
    "import numpy as np\n",
    "import plotly.graph_objs as go\n",
    "from plotly.offline import iplot\n",
    "from string import ascii_letters\n",
    "plotly.offline.init_notebook_mode(connected=True)\n",
    "import matplotlib.pyplot as plt\n",
    "import seaborn as sns"
   ]
  },
  {
   "cell_type": "code",
   "execution_count": 2,
   "metadata": {},
   "outputs": [],
   "source": [
    "df = pd.read_csv('./q_a_users.csv', low_memory=False)\n",
    "badges_conv = pd.read_csv('./badges_converts_relevant.csv', low_memory=False)\n",
    "badges_q = pd.read_csv('./badges_all_pure_q.csv', low_memory=False)\n",
    "comments = pd.read_csv('./comments.csv', low_memory=False)"
   ]
  },
  {
   "cell_type": "code",
   "execution_count": 3,
   "metadata": {},
   "outputs": [],
   "source": [
    "badges = pd.concat([badges_conv, badges_q], sort=False)"
   ]
  },
  {
   "cell_type": "code",
   "execution_count": 4,
   "metadata": {},
   "outputs": [],
   "source": [
    "badges_num = badges.groupby('user_id').agg('count')['name'].to_frame().rename(columns = {'name': 'num_badges'})"
   ]
  },
  {
   "cell_type": "code",
   "execution_count": 5,
   "metadata": {},
   "outputs": [],
   "source": [
    "comments.drop('Unnamed: 0', axis=1, inplace=True)\n",
    "comments.rename(columns={'f0_': 'avg_comment_score'}, inplace=True)"
   ]
  },
  {
   "cell_type": "code",
   "execution_count": 6,
   "metadata": {},
   "outputs": [],
   "source": [
    "df.rename(columns={'owner_antw': 'user_id'}, inplace=True)\n",
    "df_c = df.join(comments.set_index('user_id'), on='user_id')\n",
    "df_cb = df_c.join(badges_num, on='user_id')"
   ]
  },
  {
   "cell_type": "code",
   "execution_count": 7,
   "metadata": {},
   "outputs": [],
   "source": [
    "df_cb.fillna(0, inplace=True)"
   ]
  },
  {
   "cell_type": "code",
   "execution_count": 8,
   "metadata": {},
   "outputs": [],
   "source": [
    "df_cb.drop('Unnamed: 0', axis=1, inplace=True) # drop redundant id column"
   ]
  },
  {
   "cell_type": "markdown",
   "metadata": {},
   "source": [
    "# Model"
   ]
  },
  {
   "cell_type": "code",
   "execution_count": 10,
   "metadata": {},
   "outputs": [],
   "source": [
    "import sklearn.model_selection\n",
    "import sklearn.metrics\n",
    "import sklearn.tree"
   ]
  },
  {
   "cell_type": "code",
   "execution_count": 12,
   "metadata": {},
   "outputs": [],
   "source": [
    "df_cb['min_date_antw'] = pd.to_datetime(df_cb['min_date_antw'])\n",
    "df_cb['min_date_frage'] = pd.to_datetime(df_cb['min_date_frage'])\n",
    "df_cb = df_cb[df_cb['min_date_frage'] > pd.to_datetime(0)]\n",
    "df_cb['target'] = [np.sign(x.day-y.day) if x != pd.to_datetime(0) else -2 for x,y in zip(df_cb['min_date_antw'], df_cb['min_date_frage'])]\n",
    "model_df = df_cb[\n",
    "    ['anzahl_fragen', 'avg_score_frage', 'anzahl_comments', 'avg_comment_score', 'num_badges', 'target']\n",
    "].sample(frac=1.0).copy()\n",
    "#model_df.dropna(inplace=True)"
   ]
  },
  {
   "cell_type": "code",
   "execution_count": 13,
   "metadata": {},
   "outputs": [],
   "source": [
    "train, test = sklearn.model_selection.train_test_split(model_df)"
   ]
  },
  {
   "cell_type": "code",
   "execution_count": 14,
   "metadata": {},
   "outputs": [
    {
     "data": {
      "text/plain": [
       "0.7972165828110748"
      ]
     },
     "execution_count": 14,
     "metadata": {},
     "output_type": "execute_result"
    }
   ],
   "source": [
    "clf = sklearn.tree.DecisionTreeClassifier()\n",
    "clf.fit(train.drop('target', axis=1), train['target'])\n",
    "clf.score(test.drop('target', axis=1), test['target'])"
   ]
  },
  {
   "cell_type": "code",
   "execution_count": 15,
   "metadata": {},
   "outputs": [
    {
     "name": "stdout",
     "output_type": "stream",
     "text": [
      "             precision    recall  f1-score   support\n",
      "\n",
      "         -2       1.00      1.00      1.00    489300\n",
      "         -1       0.41      0.30      0.34    110155\n",
      "          0       0.12      0.05      0.07     36729\n",
      "          1       0.50      0.68      0.58    145517\n",
      "\n",
      "avg / total       0.78      0.80      0.79    781701\n",
      "\n"
     ]
    }
   ],
   "source": [
    "print(sklearn.metrics.classification_report(test['target'], clf.predict(test.drop('target', axis=1))))"
   ]
  },
  {
   "cell_type": "code",
   "execution_count": 21,
   "metadata": {},
   "outputs": [],
   "source": [
    "dot_data = sklearn.tree.export_graphviz(clf, out_file='tree.dot')"
   ]
  },
  {
   "cell_type": "code",
   "execution_count": null,
   "metadata": {},
   "outputs": [],
   "source": []
  },
  {
   "cell_type": "code",
   "execution_count": null,
   "metadata": {},
   "outputs": [],
   "source": []
  },
  {
   "cell_type": "code",
   "execution_count": null,
   "metadata": {},
   "outputs": [],
   "source": []
  }
 ],
 "metadata": {
  "kernelspec": {
   "display_name": "Python 3",
   "language": "python",
   "name": "python3"
  },
  "language_info": {
   "codemirror_mode": {
    "name": "ipython",
    "version": 3
   },
   "file_extension": ".py",
   "mimetype": "text/x-python",
   "name": "python",
   "nbconvert_exporter": "python",
   "pygments_lexer": "ipython3",
   "version": "3.7.0"
  }
 },
 "nbformat": 4,
 "nbformat_minor": 2
}
