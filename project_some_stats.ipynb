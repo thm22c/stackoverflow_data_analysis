{
 "cells": [
  {
   "cell_type": "markdown",
   "metadata": {},
   "source": [
    "# Study Design\n",
    "\n",
    "## Goals and Requirements\n",
    "The goal of this study is to ascertain the \n",
    "- rate\n",
    "- conditions (time lapsed, questions asked)\n",
    "- common topics in which\n",
    "a change from a mostly asking user to an actively answering one can occur\n",
    "### Requirements:\n",
    "For this study the open kaggle dataset of stackoverflow (150GB, 2 years old) will be used (out of convenience) and will thus require access to Googles BigQuery API\n",
    "\n",
    "\n",
    "assuming Windows and Conda:\n",
    "\n",
    "```\n",
    "pip install --upgrade google-cloud-bigquery\n",
    "conda install -c anaconda git\n",
    "pip install -e git+https://github.com/SohierDane/BigQuery_Helper#egg=bq_helper\n",
    "```\n",
    "\n",
    "## Study Questions\n",
    "*Does it happen that a q-user becomes an a-user?*\n",
    "\n",
    "Problems in finding the answer to this question:\n",
    "- one needs to define a cutoff between \"initial a-user\" and \"q-user convert\"\n",
    "- maybe there is an \"early onset\" of the conversion by increased commenting?\n",
    "-- maybe its even more important that the q-user starts commenting on other peoples questions?\n",
    "- users might be more eager to start answering questions if their questions where well received, i.e. they received a high number of votes and high quality accepted answers (using votes as a metric for the quality of the answer)\n",
    "- it might be worthwile to investigate other network sites on stackexchange: A user might only ask questions  on stackoverflow, but answer questions on math.stackexchange. This behaviour might influence wether or not the user will start answering questions on stackoverflow\n",
    "\n",
    "## Research Method\n",
    "Investigate a reasonably sized, random sample taken from the dataset, use visualisation methods and descriptive statistics to investigate trends and structure, use these insights to build a predictive model and evaluate its performance on a test set taken out of the same dataset\n",
    "\n",
    "## Strategy\n",
    "If possible, use the dataset on kaggle as a source for our data.\n",
    "Decide on a resonable size of the dataset which we will consider for further analysis; using the entire dataset (let alone the *real* entire live dataset until ~2018) will not be feasible.\n",
    "\n",
    "Start by seperating out a sample from the dataset which will later be used to evaluate performance.\n",
    "\n",
    "For some of the required data, it might be neccesary to use stackAPI to gather additional data e.g. stats on other network sites."
   ]
  },
  {
   "cell_type": "markdown",
   "metadata": {},
   "source": [
    "# Data Retrieval"
   ]
  },
  {
   "cell_type": "code",
   "execution_count": null,
   "metadata": {},
   "outputs": [],
   "source": []
  },
  {
   "cell_type": "code",
   "execution_count": 59,
   "metadata": {},
   "outputs": [
    {
     "data": {
      "text/html": [
       "<script type=\"text/javascript\">window.PlotlyConfig = {MathJaxConfig: 'local'};</script><script type=\"text/javascript\">if (window.MathJax) {MathJax.Hub.Config({SVG: {font: \"STIX-Web\"}});}</script><script>requirejs.config({paths: { 'plotly': ['https://cdn.plot.ly/plotly-latest.min']},});if(!window._Plotly) {require(['plotly'],function(plotly) {window._Plotly=plotly;});}</script>"
      ],
      "text/vnd.plotly.v1+html": [
       "<script type=\"text/javascript\">window.PlotlyConfig = {MathJaxConfig: 'local'};</script><script type=\"text/javascript\">if (window.MathJax) {MathJax.Hub.Config({SVG: {font: \"STIX-Web\"}});}</script><script>requirejs.config({paths: { 'plotly': ['https://cdn.plot.ly/plotly-latest.min']},});if(!window._Plotly) {require(['plotly'],function(plotly) {window._Plotly=plotly;});}</script>"
      ]
     },
     "metadata": {},
     "output_type": "display_data"
    }
   ],
   "source": [
    "import pandas as pd\n",
    "import numpy as np\n",
    "import plotly\n",
    "import plotly.graph_objs as go\n",
    "from plotly.offline import iplot\n",
    "\n",
    "plotly.offline.init_notebook_mode(connected=True)"
   ]
  },
  {
   "cell_type": "code",
   "execution_count": 60,
   "metadata": {},
   "outputs": [],
   "source": [
    "df = pandas.read_csv('./user_stats.csv')"
   ]
  },
  {
   "cell_type": "markdown",
   "metadata": {},
   "source": [
    "### Testing that 'converted' q-users do exist:\n",
    "This study can only work if all three groups:\n",
    "- q-user: that to this day have not answered a question\n",
    "- a-user: that to this day have not asked a question\n",
    "- converts: former q-users\n",
    "exist in significant numbers in the datasample.\n",
    "Because this the selection of people who both asked and answered, converts would qualify themselvs by having at least a day between asking and answering (two destinct) questions."
   ]
  },
  {
   "cell_type": "code",
   "execution_count": 61,
   "metadata": {},
   "outputs": [
    {
     "data": {
      "text/plain": [
       "count    1.167083e+06\n",
       "mean    -8.824696e+01\n",
       "std      4.710262e+02\n",
       "min     -3.620000e+03\n",
       "25%     -1.610000e+02\n",
       "50%     -6.000000e+00\n",
       "75%      0.000000e+00\n",
       "max      3.675000e+03\n",
       "Name: days, dtype: float64"
      ]
     },
     "execution_count": 61,
     "metadata": {},
     "output_type": "execute_result"
    }
   ],
   "source": [
    "%matplotlib inline\n",
    "day_diff=np.array([int(i.days) for i in (pd.to_datetime(df['min_date_frage'])-pd.to_datetime(df['min_date_antw']))])\n",
    "df['days']=day_diff\n",
    "#print(timedifference)\n",
    "df=df.sort_values('days', ascending=True)\n",
    "df[\"days_sign\"] = np.sign(df.days)\n",
    "df['days'].describe()"
   ]
  },
  {
   "cell_type": "code",
   "execution_count": 62,
   "metadata": {},
   "outputs": [
    {
     "name": "stdout",
     "output_type": "stream",
     "text": [
      "-1    867559\n",
      " 1    281493\n",
      " 0     18031\n",
      "Name: days_sign, dtype: int64\n"
     ]
    }
   ],
   "source": [
    "print(df['days_sign'].value_counts())"
   ]
  },
  {
   "cell_type": "markdown",
   "metadata": {},
   "source": [
    "So one can see the out of every user that both asked and answered:\n",
    "- 867 559 people answere a question first\n",
    "- 281 493 people ask one first -> converts!\n",
    "- 18 031 do both in the same day"
   ]
  },
  {
   "cell_type": "markdown",
   "metadata": {},
   "source": [
    "### Assuming basic corelations\n",
    "If one gets consistently high scores he/she might answere more questions and vice versa.\n",
    "Here the two corelations seperately and a plot showing a corelation matrix"
   ]
  },
  {
   "cell_type": "code",
   "execution_count": 63,
   "metadata": {},
   "outputs": [
    {
     "data": {
      "text/plain": [
       "0.0236260978468442"
      ]
     },
     "execution_count": 63,
     "metadata": {},
     "output_type": "execute_result"
    }
   ],
   "source": [
    "df['anzahl_antw'].corr(df['avg_score_antw'])"
   ]
  },
  {
   "cell_type": "code",
   "execution_count": 64,
   "metadata": {},
   "outputs": [
    {
     "data": {
      "text/plain": [
       "0.023026349017786035"
      ]
     },
     "execution_count": 64,
     "metadata": {},
     "output_type": "execute_result"
    }
   ],
   "source": [
    "df['anzahl_fragen'].corr(df['avg_score_frage'])"
   ]
  },
  {
   "cell_type": "code",
   "execution_count": 65,
   "metadata": {},
   "outputs": [
    {
     "data": {
      "text/plain": [
       "<matplotlib.axes._subplots.AxesSubplot at 0x1246ea25e80>"
      ]
     },
     "execution_count": 65,
     "metadata": {},
     "output_type": "execute_result"
    },
    {
     "data": {
      "image/png": "[encoded data removed]",
      "text/plain": [
       "<Figure size 792x648 with 2 Axes>"
      ]
     },
     "metadata": {},
     "output_type": "display_data"
    }
   ],
   "source": [
    "from string import ascii_letters\n",
    "import seaborn as sns\n",
    "import matplotlib.pyplot as plt\n",
    "\n",
    "sns.set(style=\"white\")\n",
    "\n",
    "corr = df.corr()\n",
    "\n",
    "# Generate a mask for the upper triangle\n",
    "mask = np.zeros_like(corr, dtype=np.bool)\n",
    "mask[np.triu_indices_from(mask)] = True\n",
    "\n",
    "# Set up the matplotlib figure\n",
    "f, ax = plt.subplots(figsize=(11, 9))\n",
    "\n",
    "# Generate a custom diverging colormap\n",
    "cmap = sns.diverging_palette(220, 10, as_cmap=True)\n",
    "\n",
    "# Draw the heatmap with the mask and correct aspect ratio\n",
    "sns.heatmap(corr, mask=mask, cmap=cmap, vmax=.3, center=0,\n",
    "            square=True, linewidths=.5, cbar_kws={\"shrink\": .5})"
   ]
  },
  {
   "cell_type": "code",
   "execution_count": 66,
   "metadata": {},
   "outputs": [
    {
     "data": {
      "text/html": [
       "<div>\n",
       "<style scoped>\n",
       "    .dataframe tbody tr th:only-of-type {\n",
       "        vertical-align: middle;\n",
       "    }\n",
       "\n",
       "    .dataframe tbody tr th {\n",
       "        vertical-align: top;\n",
       "    }\n",
       "\n",
       "    .dataframe thead th {\n",
       "        text-align: right;\n",
       "    }\n",
       "</style>\n",
       "<table border=\"1\" class=\"dataframe\">\n",
       "  <thead>\n",
       "    <tr style=\"text-align: right;\">\n",
       "      <th></th>\n",
       "      <th>Unnamed: 0</th>\n",
       "      <th>owner_antw</th>\n",
       "      <th>anzahl_fragen</th>\n",
       "      <th>avg_score_frage</th>\n",
       "      <th>min_date_frage</th>\n",
       "      <th>anzahl_antw</th>\n",
       "      <th>avg_score_antw</th>\n",
       "      <th>min_date_antw</th>\n",
       "      <th>days</th>\n",
       "      <th>days_sign</th>\n",
       "    </tr>\n",
       "  </thead>\n",
       "  <tbody>\n",
       "    <tr>\n",
       "      <th>44513</th>\n",
       "      <td>44513</td>\n",
       "      <td>22656</td>\n",
       "      <td>50</td>\n",
       "      <td>135.86</td>\n",
       "      <td>2008-10-11 19:30:45.407000+00:00</td>\n",
       "      <td>34139</td>\n",
       "      <td>11.541229</td>\n",
       "      <td>2008-09-26 12:11:29.083000+00:00</td>\n",
       "      <td>15</td>\n",
       "      <td>1</td>\n",
       "    </tr>\n",
       "  </tbody>\n",
       "</table>\n",
       "</div>"
      ],
      "text/plain": [
       "       Unnamed: 0  owner_antw  anzahl_fragen  avg_score_frage  \\\n",
       "44513       44513       22656             50           135.86   \n",
       "\n",
       "                         min_date_frage  anzahl_antw  avg_score_antw  \\\n",
       "44513  2008-10-11 19:30:45.407000+00:00        34139       11.541229   \n",
       "\n",
       "                          min_date_antw  days  days_sign  \n",
       "44513  2008-09-26 12:11:29.083000+00:00    15          1  "
      ]
     },
     "execution_count": 66,
     "metadata": {},
     "output_type": "execute_result"
    }
   ],
   "source": [
    "df.sort_values('anzahl_antw', ascending=False).head(1) # JON SKEET!"
   ]
  },
  {
   "cell_type": "code",
   "execution_count": null,
   "metadata": {},
   "outputs": [],
   "source": []
  }
 ],
 "metadata": {
  "kernelspec": {
   "display_name": "Python 3 (ipykernel)",
   "language": "python",
   "name": "python3"
  },
  "language_info": {
   "codemirror_mode": {
    "name": "ipython",
    "version": 3
   },
   "file_extension": ".py",
   "mimetype": "text/x-python",
   "name": "python",
   "nbconvert_exporter": "python",
   "pygments_lexer": "ipython3",
   "version": "3.9.7"
  }
 },
 "nbformat": 4,
 "nbformat_minor": 2
}
