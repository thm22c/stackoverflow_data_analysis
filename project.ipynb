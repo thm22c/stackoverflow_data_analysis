{
 "cells": [
  {
   "cell_type": "markdown",
   "metadata": {},
   "source": [
    "# Study Design\n",
    "\n",
    "## Goals and Requirements\n",
    "The goal of this study is to ascertain the \n",
    "- rate\n",
    "- conditions (time lapsed, questions asked)\n",
    "- common topics in which\n",
    "a change from a mostly asking user to an actively answering one can occur\n",
    "### Requirements:\n",
    "For this study the open kaggle dataset of stackoverflow (150GB, 2 years old) will be used (out of convenience) and will thus require access to Googles BigQuery API\n",
    "\n",
    "\n",
    "assuming Windows and Conda:\n",
    "\n",
    "```\n",
    "pip install --upgrade google-cloud-bigquery\n",
    "conda install -c anaconda git\n",
    "pip install -e git+https://github.com/SohierDane/BigQuery_Helper#egg=bq_helper\n",
    "```\n",
    "\n",
    "## Study Questions\n",
    "*Does it happen that a q-user becomes an a-user?*\n",
    "\n",
    "Problems in finding the answer to this question:\n",
    "- one needs to define a cutoff between \"initial a-user\" and \"q-user convert\"\n",
    "- maybe there is an \"early onset\" of the conversion by increased commenting?\n",
    "-- maybe its even more important that the q-user starts commenting on other peoples questions?\n",
    "- users might be more eager to start answering questions if their questions where well received, i.e. they received a high number of votes and high quality accepted answers (using votes as a metric for the quality of the answer)\n",
    "- it might be worthwile to investigate other network sites on stackexchange: A user might only ask questions  on stackoverflow, but answer questions on math.stackexchange. This behaviour might influence wether or not the user will start answering questions on stackoverflow\n",
    "\n",
    "## Research Method\n",
    "Investigate a reasonably sized, random sample taken from the dataset, use visualisation methods and descriptive statistics to investigate trends and structure, use these insights to build a predictive model and evaluate its performance on a test set taken out of the same dataset\n",
    "\n",
    "## Strategy\n",
    "If possible, use the dataset on kaggle as a source for our data.\n",
    "Decide on a resonable size of the dataset which we will consider for further analysis; using the entire dataset (let alone the *real* entire live dataset until ~2018) will not be feasible.\n",
    "\n",
    "Start by seperating out a sample from the dataset which will later be used to evaluate performance.\n",
    "\n",
    "For some of the required data, it might be neccesary to use stackAPI to gather additional data e.g. stats on other network sites."
   ]
  },
  {
   "cell_type": "markdown",
   "metadata": {},
   "source": [
    "# Data Retrieval"
   ]
  },
  {
   "cell_type": "code",
   "execution_count": 66,
   "metadata": {},
   "outputs": [
    {
     "data": {
      "text/plain": [
       "'\\nimport os\\nimport bq_helper\\nfrom bq_helper import BigQueryHelper\\n\\ncredential_path =\"./bigquery_key.json\"\\n#^this json can be generated follwoing these instructions: https://cloud.google.com/bigquery/docs/reference/libraries \\nos.environ[\\'GOOGLE_APPLICATION_CREDENTIALS\\'] = credential_path\\nstackOverflow=bq_helper.BigQueryHelper(active_project=\"bigquery-public-data\",dataset_name=\"stackoverflow\")\\nbq_assistant = BigQueryHelper(\"bigquery-public-data\", \"stackoverflow\")\\nquery=\"\"\"\\n\\n\\tSELECT questions.id as POST_ID, creation_date, answer_count,comment_count,score \\n\\tFROM\\n\\t\\t`bigquery-public-data.stackoverflow.posts_questions` questions\\n\\tWHERE questions.owner_user_id IN (SELECT answeres.owner_user_id \\n            FROM `bigquery-public-data.stackoverflow.posts_answers` answeres) \\n        \"\"\"\\n#more useful:\\nq2=\"\"\"\\nSELECT owner_antw, anzahl_fragen, avg_score_frage, min_date_frage, anzahl_antw, avg_score_antw, min_date_antw \\nFROM ((SELECT owner_user_id as owner_frage, COUNT(*) AS anzahl_fragen, AVG(score) AS avg_score_frage, MIN(creation_date) as min_date_frage\\n\\tFROM\\n\\t\\t`bigquery-public-data.stackoverflow.posts_questions` question\\n\\t\\tGROUP BY\\n\\t\\towner_user_id)\\n\\tFULL OUTER JOIN\\n\\t(SELECT owner_user_id as owner_antw, COUNT(*) AS anzahl_antw, AVG(score) AS avg_score_antw, MIN(creation_date) as min_date_antw\\n\\t\\tFROM\\n\\t\\t`bigquery-public-data.stackoverflow.posts_answers` answers\\n\\t\\tGROUP BY\\n\\t\\towner_user_id)\\n\\tON owner_frage=owner_antw)\\n\\t\\n        \"\"\"\\n\\n\\nprint(bq_assistant.estimate_query_size(q2))\\n\\nres= bq_assistant.query_to_pandas_safe(q2)\\nprint(\"working\")\\nres.to_csv(\"./q_a_users.csv\")\\nprint(\"done\")\\n#other helpful links:\\n#https://www.kaggle.com/sohier/introduction-to-the-bq-helper-package#\\n#https://www.kaggle.com/paultimothymooney/how-to-query-the-stack-overflow-data#\\n'"
      ]
     },
     "execution_count": 66,
     "metadata": {},
     "output_type": "execute_result"
    }
   ],
   "source": [
    "'''\n",
    "import os\n",
    "import bq_helper\n",
    "from bq_helper import BigQueryHelper\n",
    "\n",
    "credential_path =\"./bigquery_key.json\"\n",
    "#^this json can be generated follwoing these instructions: https://cloud.google.com/bigquery/docs/reference/libraries \n",
    "os.environ['GOOGLE_APPLICATION_CREDENTIALS'] = credential_path\n",
    "stackOverflow=bq_helper.BigQueryHelper(active_project=\"bigquery-public-data\",dataset_name=\"stackoverflow\")\n",
    "bq_assistant = BigQueryHelper(\"bigquery-public-data\", \"stackoverflow\")\n",
    "query=\"\"\"\n",
    "\n",
    "\tSELECT questions.id as POST_ID, creation_date, answer_count,comment_count,score \n",
    "\tFROM\n",
    "\t\t`bigquery-public-data.stackoverflow.posts_questions` questions\n",
    "\tWHERE questions.owner_user_id IN (SELECT answeres.owner_user_id \n",
    "            FROM `bigquery-public-data.stackoverflow.posts_answers` answeres) \n",
    "        \"\"\"\n",
    "#more useful:\n",
    "q2=\"\"\"\n",
    "SELECT owner_antw, anzahl_fragen, avg_score_frage, min_date_frage, anzahl_antw, avg_score_antw, min_date_antw \n",
    "FROM ((SELECT owner_user_id as owner_frage, COUNT(*) AS anzahl_fragen, AVG(score) AS avg_score_frage, MIN(creation_date) as min_date_frage\n",
    "\tFROM\n",
    "\t\t`bigquery-public-data.stackoverflow.posts_questions` question\n",
    "\t\tGROUP BY\n",
    "\t\towner_user_id)\n",
    "\tFULL OUTER JOIN\n",
    "\t(SELECT owner_user_id as owner_antw, COUNT(*) AS anzahl_antw, AVG(score) AS avg_score_antw, MIN(creation_date) as min_date_antw\n",
    "\t\tFROM\n",
    "\t\t`bigquery-public-data.stackoverflow.posts_answers` answers\n",
    "\t\tGROUP BY\n",
    "\t\towner_user_id)\n",
    "\tON owner_frage=owner_antw)\n",
    "\t\n",
    "        \"\"\"\n",
    "\n",
    "\n",
    "print(bq_assistant.estimate_query_size(q2))\n",
    "\n",
    "res= bq_assistant.query_to_pandas_safe(q2)\n",
    "print(\"working\")\n",
    "res.to_csv(\"./q_a_users.csv\")\n",
    "print(\"done\")\n",
    "#other helpful links:\n",
    "#https://www.kaggle.com/sohier/introduction-to-the-bq-helper-package#\n",
    "#https://www.kaggle.com/paultimothymooney/how-to-query-the-stack-overflow-data#\n",
    "'''"
   ]
  },
  {
   "cell_type": "code",
   "execution_count": 5,
   "metadata": {},
   "outputs": [
    {
     "data": {
      "text/html": [
       "<script>requirejs.config({paths: { 'plotly': ['https://cdn.plot.ly/plotly-latest.min']},});if(!window.Plotly) {{require(['plotly'],function(plotly) {window.Plotly=plotly;});}}</script>"
      ],
      "text/vnd.plotly.v1+html": [
       "<script>requirejs.config({paths: { 'plotly': ['https://cdn.plot.ly/plotly-latest.min']},});if(!window.Plotly) {{require(['plotly'],function(plotly) {window.Plotly=plotly;});}}</script>"
      ]
     },
     "metadata": {},
     "output_type": "display_data"
    }
   ],
   "source": [
    "import pandas as pd\n",
    "import plotly\n",
    "import numpy as np\n",
    "import plotly.graph_objs as go\n",
    "from plotly.offline import iplot\n",
    "from string import ascii_letters\n",
    "plotly.offline.init_notebook_mode(connected=True)\n",
    "import matplotlib.pyplot as plt\n",
    "import seaborn as sns"
   ]
  },
  {
   "cell_type": "code",
   "execution_count": 49,
   "metadata": {},
   "outputs": [],
   "source": [
    "df = pandas.read_csv('./q_a_users.csv', low_memory=False)"
   ]
  },
  {
   "cell_type": "code",
   "execution_count": 97,
   "metadata": {},
   "outputs": [],
   "source": [
    "df['anzahl_antw'].fillna(0, inplace=True)\n",
    "df['anzahl_fragen'].fillna(0, inplace=True)\n",
    "df['avg_score_antw'].fillna(0.0, inplace=True)\n",
    "df['avg_score_frage'].fillna(0.0, inplace=True)"
   ]
  },
  {
   "cell_type": "code",
   "execution_count": 51,
   "metadata": {},
   "outputs": [],
   "source": [
    "df = df[df.columns[1:]] # drop redundant id column"
   ]
  },
  {
   "cell_type": "code",
   "execution_count": 52,
   "metadata": {},
   "outputs": [
    {
     "data": {
      "text/plain": [
       "<matplotlib.axes._subplots.AxesSubplot at 0x7f529e396dd8>"
      ]
     },
     "execution_count": 52,
     "metadata": {},
     "output_type": "execute_result"
    },
    {
     "data": {
      "image/png": "[encoded data removed]",
      "text/plain": [
       "<Figure size 432x288 with 1 Axes>"
      ]
     },
     "metadata": {
      "needs_background": "light"
     },
     "output_type": "display_data"
    }
   ],
   "source": [
    "sns.boxplot(data=df[['anzahl_fragen', 'anzahl_antw']], sym='')"
   ]
  },
  {
   "cell_type": "markdown",
   "metadata": {},
   "source": [
    "### Testing that 'converted' q-users do exist:\n",
    "This study can only work if all three groups:\n",
    "- q-user: that to this day have not answered a question\n",
    "- a-user: that to this day have not asked a question\n",
    "- converts: former q-users\n",
    "exist in significant numbers in the datasample.\n",
    "In this case a destinction were made if at least one day between a question asked and one answered lapsed or not (so \"both\" does ask and answere on the same day )"
   ]
  },
  {
   "cell_type": "code",
   "execution_count": 62,
   "metadata": {},
   "outputs": [
    {
     "name": "stderr",
     "output_type": "stream",
     "text": [
      "/home/simon/.conda/envs/conda_env/lib/python3.7/site-packages/ipykernel_launcher.py:3: SettingWithCopyWarning:\n",
      "\n",
      "\n",
      "A value is trying to be set on a copy of a slice from a DataFrame.\n",
      "Try using .loc[row_indexer,col_indexer] = value instead\n",
      "\n",
      "See the caveats in the documentation: http://pandas.pydata.org/pandas-docs/stable/indexing.html#indexing-view-versus-copy\n",
      "\n"
     ]
    },
    {
     "data": {
      "text/plain": [
       "count    1.167083e+06\n",
       "mean    -8.824696e+01\n",
       "std      4.710262e+02\n",
       "min     -3.620000e+03\n",
       "25%     -1.610000e+02\n",
       "50%     -6.000000e+00\n",
       "75%      0.000000e+00\n",
       "max      3.675000e+03\n",
       "Name: days, dtype: float64"
      ]
     },
     "execution_count": 62,
     "metadata": {},
     "output_type": "execute_result"
    }
   ],
   "source": [
    "dff=df.dropna()\n",
    "day_diff=np.array([int(i.days) for i in (pd.to_datetime(dff['min_date_frage'])-pd.to_datetime(dff['min_date_antw']))])\n",
    "dff['days']=day_diff\n",
    "#print(timedifference)\n",
    "dff=dff.sort_values('days', ascending=True)\n",
    "dff[\"days_sign\"] = np.sign(dff.days)\n",
    "dff['days'].describe()"
   ]
  },
  {
   "cell_type": "code",
   "execution_count": 71,
   "metadata": {},
   "outputs": [
    {
     "data": {
      "text/plain": [
       "<matplotlib.axes._subplots.AxesSubplot at 0x7f52bd46d4a8>"
      ]
     },
     "execution_count": 71,
     "metadata": {},
     "output_type": "execute_result"
    },
    {
     "data": {
      "image/png": "[encoded data removed]",
      "text/plain": [
       "<Figure size 432x288 with 1 Axes>"
      ]
     },
     "metadata": {},
     "output_type": "display_data"
    }
   ],
   "source": [
    "import scipy\n",
    "sns.distplot(dff['days'], bins=100, kde=False)"
   ]
  },
  {
   "cell_type": "markdown",
   "metadata": {},
   "source": [
    "This bar shows that most people, if they both ask and answer, answer a question first and within days ask their first question."
   ]
  },
  {
   "cell_type": "code",
   "execution_count": 20,
   "metadata": {},
   "outputs": [
    {
     "data": {
      "application/vnd.plotly.v1+json": {
       "data": [
        {
         "labels": [
          "Q-Users",
          "Pure A-Users",
          "Q to A (converts)",
          "A to Q",
          "both"
         ],
         "type": "pie",
         "uid": "c03a23e4-ebdb-11e8-9fa4-d35ed7de9e6d",
         "values": [
          1959720,
          814055,
          281493,
          867559,
          18031
         ]
        }
       ],
       "layout": {}
      },
      "text/html": [
       "<div id=\"7d3dc699-f0dc-4782-bb70-907276f58f6e\" style=\"height: 525px; width: 100%;\" class=\"plotly-graph-div\"></div><script type=\"text/javascript\">require([\"plotly\"], function(Plotly) { window.PLOTLYENV=window.PLOTLYENV || {};window.PLOTLYENV.BASE_URL=\"https://plot.ly\";Plotly.newPlot(\"7d3dc699-f0dc-4782-bb70-907276f58f6e\", [{\"labels\": [\"Q-Users\", \"Pure A-Users\", \"Q to A (converts)\", \"A to Q\", \"both\"], \"values\": [1959720, 814055, 281493, 867559, 18031], \"type\": \"pie\", \"uid\": \"c03ce14c-ebdb-11e8-9fa4-d35ed7de9e6d\"}], {}, {\"showLink\": true, \"linkText\": \"Export to plot.ly\"})});</script>"
      ],
      "text/vnd.plotly.v1+html": [
       "<div id=\"7d3dc699-f0dc-4782-bb70-907276f58f6e\" style=\"height: 525px; width: 100%;\" class=\"plotly-graph-div\"></div><script type=\"text/javascript\">require([\"plotly\"], function(Plotly) { window.PLOTLYENV=window.PLOTLYENV || {};window.PLOTLYENV.BASE_URL=\"https://plot.ly\";Plotly.newPlot(\"7d3dc699-f0dc-4782-bb70-907276f58f6e\", [{\"labels\": [\"Q-Users\", \"Pure A-Users\", \"Q to A (converts)\", \"A to Q\", \"both\"], \"values\": [1959720, 814055, 281493, 867559, 18031], \"type\": \"pie\", \"uid\": \"c03ce14c-ebdb-11e8-9fa4-d35ed7de9e6d\"}], {}, {\"showLink\": true, \"linkText\": \"Export to plot.ly\"})});</script>"
      ]
     },
     "metadata": {},
     "output_type": "display_data"
    }
   ],
   "source": [
    "s=dff['days_sign'].value_counts()\n",
    "q_users = len(df[df['anzahl_antw'] == 0])\n",
    "a_users = len(df[df['anzahl_fragen'] == 0 ])\n",
    "mixed_users = len(df[(df['anzahl_fragen'] > 0) & (df['anzahl_antw'] > 0)])\n",
    "\n",
    "iplot([\n",
    "    go.Pie(labels=[\"Q-Users\", \"Pure A-Users\", \"Q to A (converts)\", \"A to Q\", \"both\"], \n",
    "           values=[q_users, a_users,s[1],s[-1],s[0]])\n",
    "])"
   ]
  },
  {
   "cell_type": "markdown",
   "metadata": {},
   "source": [
    "So one can see the out of every user that both asked and answered:\n",
    "- 867 559 people answer a question first\n",
    "- 281 493 people ask one first -> converts!\n",
    "- 18 031 do both in the same day"
   ]
  },
  {
   "cell_type": "code",
   "execution_count": 21,
   "metadata": {},
   "outputs": [],
   "source": [
    "df['min_date_antw'] = pandas.to_datetime(df['min_date_antw'])\n",
    "df['min_date_frage'] = pandas.to_datetime(df['min_date_frage'])"
   ]
  },
  {
   "cell_type": "code",
   "execution_count": 76,
   "metadata": {},
   "outputs": [],
   "source": [
    "q_to_a = df[df['min_date_frage'] < df['min_date_antw']]\n",
    "a_to_q = df[df['min_date_frage'] > df['min_date_antw']]"
   ]
  },
  {
   "cell_type": "code",
   "execution_count": 78,
   "metadata": {},
   "outputs": [],
   "source": [
    "time_delta_q_to_a = q_to_a['min_date_antw'] - q_to_a['min_date_frage']\n",
    "time_delta_a_to_q = a_to_q['min_date_frage'] - a_to_q['min_date_antw']"
   ]
  },
  {
   "cell_type": "code",
   "execution_count": 79,
   "metadata": {},
   "outputs": [
    {
     "data": {
      "text/plain": [
       "<matplotlib.axes._subplots.AxesSubplot at 0x1dae50a14e0>"
      ]
     },
     "execution_count": 79,
     "metadata": {},
     "output_type": "execute_result"
    },
    {
     "data": {
      "image/png": "[encoded data removed]",
      "text/plain": [
       "<Figure size 432x288 with 1 Axes>"
      ]
     },
     "metadata": {},
     "output_type": "display_data"
    }
   ],
   "source": [
    "sns.boxplot(data=[time_delta_a_to_q, time_delta_q_to_a], sym='')"
   ]
  },
  {
   "cell_type": "markdown",
   "metadata": {},
   "source": [
    "### Assuming basic correlations\n",
    "If one gets consistently high scores they might answer more questions and vice versa.\n",
    "Here the two corelations seperately and a plot showing a correlation matrix"
   ]
  },
  {
   "cell_type": "code",
   "execution_count": 88,
   "metadata": {},
   "outputs": [],
   "source": [
    "#augment data with categorical data showing whether or not a user is an a-user\n",
    "df['has_answer'] = [int(x) for x in df['anzahl_antw'] > 0]"
   ]
  },
  {
   "cell_type": "code",
   "execution_count": 80,
   "metadata": {},
   "outputs": [
    {
     "data": {
      "text/plain": [
       "0.005153025724105061"
      ]
     },
     "execution_count": 80,
     "metadata": {},
     "output_type": "execute_result"
    }
   ],
   "source": [
    "df['anzahl_antw'].corr(df['avg_score_antw'])"
   ]
  },
  {
   "cell_type": "code",
   "execution_count": 81,
   "metadata": {},
   "outputs": [
    {
     "data": {
      "text/plain": [
       "0.023626097846844104"
      ]
     },
     "execution_count": 81,
     "metadata": {},
     "output_type": "execute_result"
    }
   ],
   "source": [
    "# without Nan:\n",
    "dff['anzahl_antw'].corr(dff['avg_score_antw'])"
   ]
  },
  {
   "cell_type": "code",
   "execution_count": 82,
   "metadata": {},
   "outputs": [
    {
     "data": {
      "text/plain": [
       "0.0032931468003781243"
      ]
     },
     "execution_count": 82,
     "metadata": {},
     "output_type": "execute_result"
    }
   ],
   "source": [
    "df['anzahl_fragen'].corr(df['avg_score_frage'])"
   ]
  },
  {
   "cell_type": "code",
   "execution_count": 86,
   "metadata": {},
   "outputs": [
    {
     "data": {
      "text/plain": [
       "0.0506160267322129"
      ]
     },
     "execution_count": 86,
     "metadata": {},
     "output_type": "execute_result"
    }
   ],
   "source": [
    "df['anzahl_antw'].corr(df['has_answer'])"
   ]
  },
  {
   "cell_type": "code",
   "execution_count": 96,
   "metadata": {},
   "outputs": [
    {
     "data": {
      "text/plain": [
       "<matplotlib.axes._subplots.AxesSubplot at 0x7f52d91fa198>"
      ]
     },
     "execution_count": 96,
     "metadata": {},
     "output_type": "execute_result"
    },
    {
     "data": {
      "image/png": "[encoded data removed]",
      "text/plain": [
       "<Figure size 792x648 with 2 Axes>"
      ]
     },
     "metadata": {},
     "output_type": "display_data"
    }
   ],
   "source": [
    "sns.set(style=\"white\")\n",
    "\n",
    "corr = df.corr(method='spearman')\n",
    "\n",
    "# Generate a mask for the upper triangle\n",
    "mask = np.zeros_like(corr, dtype=np.bool)\n",
    "mask[np.triu_indices_from(mask)] = True\n",
    "\n",
    "# Set up the matplotlib figure\n",
    "f, ax = plt.subplots(figsize=(11, 9))\n",
    "\n",
    "# Draw the heatmap with the mask and correct aspect ratio\n",
    "sns.heatmap(corr, mask=mask, cmap=cmap, vmax=.3, center=0,\n",
    "            square=True, linewidths=.5, cbar_kws={\"shrink\": .5})"
   ]
  },
  {
   "cell_type": "markdown",
   "metadata": {},
   "source": [
    "So no significant corelation can be found."
   ]
  },
  {
   "cell_type": "markdown",
   "metadata": {},
   "source": [
    "## Left to do:\n",
    "- infestigate if and which parameters exist that can predict a \"conversion\" before it happens (new and slightly[severly] more complicated querry is needed) <br>\n",
    "e.g. if a badge is earned for asking questions, could there be a corelation to start answering?<br>\n",
    "- - build predictive models on findings\n",
    "- investigate if the dataset is just a \"window\" of 2 years. Meaning it might be necessary to throw out any old users in this statistic as they are unlikely to just make an account and wait 5 years to start using it, yet show up indistinguishable to new ones.\n",
    "\n",
    "- MOAR GRAPHS!!!!"
   ]
  },
  {
   "cell_type": "code",
   "execution_count": null,
   "metadata": {},
   "outputs": [],
   "source": []
  },
  {
   "cell_type": "code",
   "execution_count": null,
   "metadata": {},
   "outputs": [],
   "source": []
  }
 ],
 "metadata": {
  "kernelspec": {
   "display_name": "Python 3 (ipykernel)",
   "language": "python",
   "name": "python3"
  },
  "language_info": {
   "codemirror_mode": {
    "name": "ipython",
    "version": 3
   },
   "file_extension": ".py",
   "mimetype": "text/x-python",
   "name": "python",
   "nbconvert_exporter": "python",
   "pygments_lexer": "ipython3",
   "version": "3.9.7"
  }
 },
 "nbformat": 4,
 "nbformat_minor": 2
}
